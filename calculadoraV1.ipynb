{
 "cells": [
  {
   "cell_type": "code",
   "execution_count": 2,
   "metadata": {},
   "outputs": [
    {
     "name": "stdout",
     "output_type": "stream",
     "text": [
      "50\n",
      "50\n",
      "1\n",
      "10\n",
      "60\n",
      "2\n",
      "Soma = 60\n"
     ]
    }
   ],
   "source": [
    "#Minha calculadora \n",
    "#Versão 1.00\n",
    "i = 0\n",
    "soma = 0\n",
    "for i in range(2):\n",
    "    n = int(input('Insira um número:'))\n",
    "    soma += n \n",
    "    i += 1\n",
    "    print(n)\n",
    "    print(soma)\n",
    "    print(i)\n",
    "print('Soma =', soma)\n"
   ]
  }
 ],
 "metadata": {
  "kernelspec": {
   "display_name": "Python 3.9.12 ('base')",
   "language": "python",
   "name": "python3"
  },
  "language_info": {
   "codemirror_mode": {
    "name": "ipython",
    "version": 3
   },
   "file_extension": ".py",
   "mimetype": "text/x-python",
   "name": "python",
   "nbconvert_exporter": "python",
   "pygments_lexer": "ipython3",
   "version": "3.9.12"
  },
  "orig_nbformat": 4,
  "vscode": {
   "interpreter": {
    "hash": "ad2bdc8ecc057115af97d19610ffacc2b4e99fae6737bb82f5d7fb13d2f2c186"
   }
  }
 },
 "nbformat": 4,
 "nbformat_minor": 2
}
